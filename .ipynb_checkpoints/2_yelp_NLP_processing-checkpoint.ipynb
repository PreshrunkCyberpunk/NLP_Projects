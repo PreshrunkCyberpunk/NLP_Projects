{
 "cells": [
  {
   "cell_type": "code",
   "execution_count": 1,
   "id": "0cbd8019-d6c0-4d13-8a69-5c450e90e1a2",
   "metadata": {},
   "outputs": [
    {
     "name": "stderr",
     "output_type": "stream",
     "text": [
      "[nltk_data] Downloading package stopwords to\n",
      "[nltk_data]     C:\\Users\\Asus\\AppData\\Roaming\\nltk_data...\n",
      "[nltk_data]   Package stopwords is already up-to-date!\n"
     ]
    }
   ],
   "source": [
    "import pandas as pd\n",
    "import torch\n",
    "import torch.nn as nn\n",
    "import torch.nn.functional as F\n",
    "import numpy as np\n",
    "import matplotlib.pyplot as plt\n",
    "import nltk\n",
    "nltk.download('stopwords')\n",
    "from nltk.corpus import stopwords\n",
    "import re\n",
    "from tqdm import trange"
   ]
  },
  {
   "cell_type": "code",
   "execution_count": 2,
   "id": "3572509a-803f-402c-a628-2f73a05448d4",
   "metadata": {},
   "outputs": [],
   "source": [
    "device = 'cuda' if torch.cuda.is_available() == True else 'cpu'"
   ]
  },
  {
   "cell_type": "code",
   "execution_count": 3,
   "id": "99b0fc23-72ef-4b38-944a-0866f933525f",
   "metadata": {},
   "outputs": [],
   "source": [
    "def preprocessing_text(sen, stop_words):\n",
    "    sentence = remove_tags(sen)\n",
    "    sentence = sentence.lower()\n",
    "    sentence = re.sub('[^a-zA-Z]', ' ', sentence)\n",
    "    sentence = re.sub(r\"\\s+[a-zA-Z]\\s+\", ' ', sentence)\n",
    "    sentence = re.sub(r'\\s+', ' ', sentence)\n",
    "    new_sentence = ''\n",
    "    for i in sentence.split(' '):\n",
    "        if i not in stop_words and len(i) > 1:\n",
    "            new_sentence = new_sentence + ' ' + i\n",
    "    return new_sentence\n",
    "\n",
    "def remove_tags(text):\n",
    "    TAG_RE = re.compile(r'<[^>]+>')\n",
    "    return TAG_RE.sub('', text)\n",
    "\n",
    "def preprocessing_list_of_sentences(sentences_list):\n",
    "    stop_words = set(stopwords.words('english'))\n",
    "    reviews_processed = list()\n",
    "    for sen in sentences_list:\n",
    "        reviews_processed.append(preprocessing_text(sen, stop_words))\n",
    "    return reviews_processed"
   ]
  },
  {
   "cell_type": "code",
   "execution_count": 4,
   "id": "4efb2231-78ab-48e6-ae19-12693a34f421",
   "metadata": {},
   "outputs": [],
   "source": [
    "data = pd.read_csv(r\"E:\\Data\\yelp_reviews\\shuffled_reviews_with_splits_lite.csv\")"
   ]
  },
  {
   "cell_type": "code",
   "execution_count": 5,
   "id": "8d992b75-83b5-46df-846c-88ce289573cc",
   "metadata": {},
   "outputs": [],
   "source": [
    "rating = list(data.rating)\n",
    "review = list(data.review)"
   ]
  },
  {
   "cell_type": "code",
   "execution_count": 6,
   "id": "7a4dc030-1c8b-4fae-8a92-bee179704257",
   "metadata": {},
   "outputs": [],
   "source": [
    "review = preprocessing_list_of_sentences(review)"
   ]
  },
  {
   "cell_type": "code",
   "execution_count": 7,
   "id": "3c5b38d6-2596-497e-b2e6-2cc12a0c98d6",
   "metadata": {},
   "outputs": [],
   "source": [
    "def splitting_data(dataset):\n",
    "    train = dataset[0:int(len(dataset)*0.8)]\n",
    "    test = dataset[int(len(dataset)*0.8):]\n",
    "    return train, test"
   ]
  },
  {
   "cell_type": "code",
   "execution_count": 8,
   "id": "f4a03ee7-042c-46af-b0ae-4c5e6e3435e0",
   "metadata": {},
   "outputs": [
    {
     "data": {
      "text/plain": [
       "(44800, 11200, 44800, 11200)"
      ]
     },
     "execution_count": 8,
     "metadata": {},
     "output_type": "execute_result"
    }
   ],
   "source": [
    "x_train, x_test = splitting_data(review)\n",
    "y_train, y_test = splitting_data(rating)\n",
    "len(x_train), len(x_test), len(y_train), len(y_test)"
   ]
  },
  {
   "cell_type": "code",
   "execution_count": 9,
   "id": "12891354-03f2-44d8-ba45-f4b1412be120",
   "metadata": {},
   "outputs": [],
   "source": [
    "class Vocabulary():\n",
    "    def __init__(self, x_train, x_test, y_train, y_test):\n",
    "        self.x_train = x_train\n",
    "        self.x_test = x_test\n",
    "        self.y_train = y_train\n",
    "        self.y_test = y_test\n",
    "        \n",
    "    def word_freq(self):\n",
    "        frequency = dict()\n",
    "        for sen in self.x_train:\n",
    "            for word in sen.split(' '):\n",
    "                if word != '':\n",
    "                    try:\n",
    "                        frequency[word] += 1\n",
    "                    except:\n",
    "                        frequency[word] = 1 \n",
    "        return frequency\n",
    "    \n",
    "    def padding(self, x_train_f, max_len):\n",
    "        output = list()\n",
    "            \n",
    "        for index in range(len(x_train_f)):\n",
    "            if len(x_train_f[index]) > max_len:\n",
    "                output.append(x_train_f[index][:max_len])\n",
    "            elif len(x_train_f[index]) < max_len:\n",
    "                put = x_train_f[index].copy()\n",
    "                add = max_len - len(x_train_f[index])\n",
    "                for _ in range(add):\n",
    "                    put.append(0)\n",
    "                output.append(put)\n",
    "            elif len(x_train_f[index]) == max_len:\n",
    "                output.append(x_train_f[index])\n",
    "        return output\n",
    "    \n",
    "    def sen_to_freq(self, x_train, freq):\n",
    "        output = list()\n",
    "        for _ in x_train:\n",
    "            output.append(list())\n",
    "        \n",
    "        for index in range(len(x_train)):\n",
    "            for word in x_train[index].split(' '):\n",
    "                if word != '':\n",
    "                    try:\n",
    "                        output[index].append(freq[word])\n",
    "                    except:\n",
    "                        continue\n",
    "        return output\n",
    "    \n",
    "    def length_dataframe(self, x_train_f):\n",
    "        length = list()\n",
    "        for i in range(len(x_train_f)):\n",
    "            length.append(len(x_train_f[i]))\n",
    "        df = pd.DataFrame(length)\n",
    "        print(df.describe())"
   ]
  },
  {
   "cell_type": "code",
   "execution_count": 10,
   "id": "30cb9829-b927-4510-a02e-d0b0e3867d6a",
   "metadata": {},
   "outputs": [
    {
     "name": "stdout",
     "output_type": "stream",
     "text": [
      "Length of Train:\n",
      "                  0\n",
      "count  44800.000000\n",
      "mean      63.142143\n",
      "std       57.547111\n",
      "min        0.000000\n",
      "25%       25.000000\n",
      "50%       46.000000\n",
      "75%       82.000000\n",
      "max      501.000000\n",
      "Length of Test\n",
      "                  0\n",
      "count  11200.000000\n",
      "mean      61.214554\n",
      "std       56.562232\n",
      "min        0.000000\n",
      "25%       24.000000\n",
      "50%       45.000000\n",
      "75%       79.000000\n",
      "max      468.000000\n",
      "Length of Padded Train:\n",
      "             0\n",
      "count  44800.0\n",
      "mean      80.0\n",
      "std        0.0\n",
      "min       80.0\n",
      "25%       80.0\n",
      "50%       80.0\n",
      "75%       80.0\n",
      "max       80.0\n",
      "Length of Padded Test:\n",
      "             0\n",
      "count  11200.0\n",
      "mean      80.0\n",
      "std        0.0\n",
      "min       80.0\n",
      "25%       80.0\n",
      "50%       80.0\n",
      "75%       80.0\n",
      "max       80.0\n"
     ]
    }
   ],
   "source": [
    "vocab = Vocabulary(x_train, x_test, y_train, y_test)\n",
    "freq = vocab.word_freq()\n",
    "\n",
    "x_train_f = vocab.sen_to_freq(x_train, freq)\n",
    "x_test_f = vocab.sen_to_freq(x_test, freq)\n",
    "\n",
    "print('Length of Train:')\n",
    "vocab.length_dataframe(x_train_f)\n",
    "print('Length of Test')\n",
    "vocab.length_dataframe(x_test_f)\n",
    "\n",
    "x_train_p = vocab.padding(x_train_f, 80)\n",
    "x_test_p = vocab.padding(x_test_f, 80)\n",
    "\n",
    "print('Length of Padded Train:')\n",
    "vocab.length_dataframe(x_train_p)\n",
    "print('Length of Padded Test:')\n",
    "vocab.length_dataframe(x_test_p)"
   ]
  },
  {
   "cell_type": "code",
   "execution_count": 11,
   "id": "cb5e020d-c3bc-4f2c-a10d-3be294e32708",
   "metadata": {},
   "outputs": [
    {
     "data": {
      "text/plain": [
       "(torch.Size([44800, 80]), torch.Size([11200, 80]))"
      ]
     },
     "execution_count": 11,
     "metadata": {},
     "output_type": "execute_result"
    }
   ],
   "source": [
    "x_train_t = torch.tensor(x_train_p)\n",
    "x_test_t = torch.tensor(x_test_p)\n",
    "x_train_t.shape, x_test_t.shape"
   ]
  },
  {
   "cell_type": "code",
   "execution_count": 12,
   "id": "d47a7064-1709-48bb-846e-7b31a9164c3f",
   "metadata": {},
   "outputs": [
    {
     "data": {
      "text/plain": [
       "(torch.Size([44800]), torch.Size([11200]))"
      ]
     },
     "execution_count": 12,
     "metadata": {},
     "output_type": "execute_result"
    }
   ],
   "source": [
    "y_train_b = list(map(lambda x: 1 if x == 'positive' else 0, y_train))\n",
    "y_test_b = list(map(lambda x: 1 if x == 'positive' else 0, y_test))\n",
    "\n",
    "y_train_t = torch.tensor(y_train_b)\n",
    "y_test_t = torch.tensor(y_test_b)\n",
    "y_train_t.shape, y_test_t.shape"
   ]
  },
  {
   "cell_type": "code",
   "execution_count": 13,
   "id": "61b2fc13-44b2-4271-b411-43c34f1ad868",
   "metadata": {},
   "outputs": [],
   "source": [
    "num_embeddings = int(torch.max(torch.tensor(list(freq.values()))))"
   ]
  },
  {
   "cell_type": "code",
   "execution_count": 14,
   "id": "9bab6f12-21cf-4b60-ab90-fa8473fff62d",
   "metadata": {},
   "outputs": [],
   "source": [
    "class Net(nn.Module):\n",
    "    def __init__(self, num_embeddings):\n",
    "        super(Net, self).__init__()\n",
    "        self.embedding = nn.Embedding(num_embeddings=num_embeddings+1, embedding_dim=128)\n",
    "        self.lstm = nn.LSTM(128, hidden_size=1)\n",
    "        self.linear = nn.Linear(80, 1)\n",
    "        \n",
    "    def forward(self, x):\n",
    "        out = torch.sigmoid(self.linear(self.lstm(self.embedding(x))[0].reshape(-1, 80)))\n",
    "        return out"
   ]
  },
  {
   "cell_type": "code",
   "execution_count": 15,
   "id": "7e23fc9e-9206-4b7b-b159-0af52bbd6929",
   "metadata": {},
   "outputs": [
    {
     "name": "stderr",
     "output_type": "stream",
     "text": [
      "100%|██████████████████████████████████████████████████████████████████████████████| 1000/1000 [00:11<00:00, 90.20it/s]\n"
     ]
    },
    {
     "data": {
      "text/plain": [
       "(0.0, 1.1)"
      ]
     },
     "execution_count": 15,
     "metadata": {},
     "output_type": "execute_result"
    },
    {
     "data": {
      "image/png": "[encoded data removed]",
      "text/plain": [
       "<Figure size 432x288 with 1 Axes>"
      ]
     },
     "metadata": {
      "needs_background": "light"
     },
     "output_type": "display_data"
    }
   ],
   "source": [
    "model = Net(num_embeddings).to(device=device)\n",
    "bs = 32\n",
    "optim = torch.optim.Adam(model.parameters(), lr=1e-3)\n",
    "loss_fn = nn.BCELoss()\n",
    "losses, accuracies = list(), list()\n",
    "\n",
    "for epoch in (t := trange(1000)):\n",
    "    samp = np.random.randint(0, x_train_t.shape[0], size=(bs))\n",
    "    x = x_train_t[samp].to(device=device)\n",
    "    y = y_train_t[samp].float().to(device=device)\n",
    "    \n",
    "    model.zero_grad()\n",
    "    out = model(x).reshape(32)\n",
    "    cat = torch.tensor(list(map(lambda x: 1 if x > 0.5 else 0, out))).to(device=device)\n",
    "    accuracy = (cat == y).float().mean()\n",
    "    \n",
    "    loss = loss_fn(out, y)\n",
    "    \n",
    "    loss.backward()\n",
    "    optim.step()\n",
    "    \n",
    "    losses.append(loss.item())\n",
    "    accuracies.append(accuracy.item())\n",
    "    \n",
    "plt.plot(accuracies)\n",
    "plt.plot(losses)\n",
    "plt.ylim(0, 1.1)"
   ]
  },
  {
   "cell_type": "code",
   "execution_count": 16,
   "id": "4dfc1911-c99f-461c-9912-e6b2cee37083",
   "metadata": {},
   "outputs": [
    {
     "data": {
      "text/plain": [
       "0.65625"
      ]
     },
     "execution_count": 16,
     "metadata": {},
     "output_type": "execute_result"
    }
   ],
   "source": [
    "accuracies[-1]"
   ]
  },
  {
   "cell_type": "code",
   "execution_count": 17,
   "id": "9a537c36-6eef-4d4f-b673-971371b213b7",
   "metadata": {},
   "outputs": [
    {
     "name": "stdout",
     "output_type": "stream",
     "text": [
      "71.55357003211975\n"
     ]
    }
   ],
   "source": [
    "#for name, x, y in [('train', x_train_t, y_train_t), ('test', x_test_t, y_test_t)]:\n",
    "with torch.no_grad():\n",
    "    x = x_test_t.to(device=device)\n",
    "    y = y_test_t.float().to(device=device)\n",
    "    out = model(x).reshape(-1)\n",
    "    cat = torch.tensor(list(map(lambda x: 1 if x > 0.5 else 0, out))).to(device=device)\n",
    "    accuracy = (cat == y).float().mean()\n",
    "    print(accuracy.item()*100)"
   ]
  },
  {
   "cell_type": "code",
   "execution_count": null,
   "id": "abb83b15-771d-4fba-bb27-0561ea3dbabb",
   "metadata": {},
   "outputs": [],
   "source": []
  }
 ],
 "metadata": {
  "kernelspec": {
   "display_name": "Python 3",
   "language": "python",
   "name": "python3"
  },
  "language_info": {
   "codemirror_mode": {
    "name": "ipython",
    "version": 3
   },
   "file_extension": ".py",
   "mimetype": "text/x-python",
   "name": "python",
   "nbconvert_exporter": "python",
   "pygments_lexer": "ipython3",
   "version": "3.9.2"
  }
 },
 "nbformat": 4,
 "nbformat_minor": 5
}
