{
 "cells": [
  {
   "cell_type": "code",
   "execution_count": 1,
   "id": "f9b5701a-6e3f-485e-a2df-a655988d2b10",
   "metadata": {},
   "outputs": [
    {
     "name": "stderr",
     "output_type": "stream",
     "text": [
      "[nltk_data] Downloading package stopwords to\n",
      "[nltk_data]     C:\\Users\\Asus\\AppData\\Roaming\\nltk_data...\n",
      "[nltk_data]   Package stopwords is already up-to-date!\n"
     ]
    }
   ],
   "source": [
    "import pandas as pd\n",
    "import torch\n",
    "import torch.nn as nn\n",
    "import torch.nn.functional as F\n",
    "import numpy as np\n",
    "import matplotlib.pyplot as plt\n",
    "import nltk\n",
    "nltk.download('stopwords')\n",
    "from nltk.corpus import stopwords\n",
    "import re\n",
    "from tqdm import trange"
   ]
  },
  {
   "cell_type": "code",
   "execution_count": 2,
   "id": "7f6e1bf4-977e-4be6-9eb2-8c58d14c1369",
   "metadata": {},
   "outputs": [
    {
     "name": "stdout",
     "output_type": "stream",
     "text": [
      "cuda\n"
     ]
    }
   ],
   "source": [
    "device = 'cuda' if torch.cuda.is_available() == True else 'cpu'\n",
    "print(device)"
   ]
  },
  {
   "cell_type": "code",
   "execution_count": 3,
   "id": "7298dc3b-9b72-4b4f-b1eb-a90791e1e36c",
   "metadata": {},
   "outputs": [],
   "source": [
    "def preprocessing_text(sen, stop_words):\n",
    "    sentence = remove_tags(sen)\n",
    "    sentence = sentence.lower()\n",
    "    sentence = re.sub('[^a-zA-Z]', ' ', sentence)\n",
    "    sentence = re.sub(r\"\\s+[a-zA-Z]\\s+\", ' ', sentence)\n",
    "    sentence = re.sub(r'\\s+', ' ', sentence)\n",
    "    new_sentence = ''\n",
    "    for i in sentence.split(' '):\n",
    "        if i not in stop_words and len(i) > 1:\n",
    "            new_sentence = new_sentence + ' ' + i\n",
    "    return new_sentence\n",
    "\n",
    "def remove_tags(text):\n",
    "    TAG_RE = re.compile(r'<[^>]+>')\n",
    "    return TAG_RE.sub('', text)\n",
    "\n",
    "def preprocessing_list_of_sentences(sentences_list):\n",
    "    stop_words = set(stopwords.words('english'))\n",
    "    reviews_processed = list()\n",
    "    for sen in sentences_list:\n",
    "        reviews_processed.append(preprocessing_text(sen, stop_words))\n",
    "    return reviews_processed"
   ]
  },
  {
   "cell_type": "code",
   "execution_count": 4,
   "id": "ea66e0fd-d092-423e-af4c-488927abe1fc",
   "metadata": {},
   "outputs": [],
   "source": [
    "data = pd.read_csv(r\"E:\\Data\\yelp_reviews\\shuffled_reviews_with_splits_full.csv\")"
   ]
  },
  {
   "cell_type": "code",
   "execution_count": 5,
   "id": "ed6fdcfa-bcda-418a-b24e-76c800f5a54a",
   "metadata": {},
   "outputs": [],
   "source": [
    "rating = list(data.rating)\n",
    "review = list(data.review)"
   ]
  },
  {
   "cell_type": "code",
   "execution_count": 6,
   "id": "3c522bcd-1f2c-4952-a166-3784f23d2c93",
   "metadata": {},
   "outputs": [],
   "source": [
    "review = preprocessing_list_of_sentences(review)"
   ]
  },
  {
   "cell_type": "code",
   "execution_count": 7,
   "id": "b3086503-f082-4549-904a-15a47e3963be",
   "metadata": {},
   "outputs": [],
   "source": [
    "def splitting_data(dataset):\n",
    "    train = dataset[0:int(len(dataset)*0.8)]\n",
    "    test = dataset[int(len(dataset)*0.8):]\n",
    "    return train, test"
   ]
  },
  {
   "cell_type": "code",
   "execution_count": 8,
   "id": "1666855b-017b-4919-9a62-b3b180d57d59",
   "metadata": {},
   "outputs": [
    {
     "data": {
      "text/plain": [
       "(478400, 119600, 478400, 119600)"
      ]
     },
     "execution_count": 8,
     "metadata": {},
     "output_type": "execute_result"
    }
   ],
   "source": [
    "x_train, x_test = splitting_data(review)\n",
    "y_train, y_test = splitting_data(rating)\n",
    "len(x_train), len(x_test), len(y_train), len(y_test)"
   ]
  },
  {
   "cell_type": "code",
   "execution_count": 9,
   "id": "cd69a2d5-76f9-4a0f-a969-6a1fef70843d",
   "metadata": {},
   "outputs": [],
   "source": [
    "class Vocabulary():\n",
    "    def __init__(self, x_train, x_test, y_train, y_test):\n",
    "        self.x_train = x_train\n",
    "        self.x_test = x_test\n",
    "        self.y_train = y_train\n",
    "        self.y_test = y_test\n",
    "        \n",
    "    def word_freq(self):\n",
    "        frequency = dict()\n",
    "        for sen in self.x_train:\n",
    "            for word in sen.split(' '):\n",
    "                if word != '':\n",
    "                    try:\n",
    "                        frequency[word] += 1\n",
    "                    except:\n",
    "                        frequency[word] = 1 \n",
    "        return frequency\n",
    "    \n",
    "    def padding(self, x_train_f, max_len):\n",
    "        output = list()\n",
    "            \n",
    "        for index in range(len(x_train_f)):\n",
    "            if len(x_train_f[index]) > max_len:\n",
    "                output.append(x_train_f[index][:max_len])\n",
    "            elif len(x_train_f[index]) < max_len:\n",
    "                put = x_train_f[index].copy()\n",
    "                add = max_len - len(x_train_f[index])\n",
    "                for _ in range(add):\n",
    "                    put.append(0)\n",
    "                output.append(put)\n",
    "            elif len(x_train_f[index]) == max_len:\n",
    "                output.append(x_train_f[index])\n",
    "        return output\n",
    "    \n",
    "    def sen_to_freq(self, x_train, freq):\n",
    "        output = list()\n",
    "        for _ in x_train:\n",
    "            output.append(list())\n",
    "        \n",
    "        for index in range(len(x_train)):\n",
    "            for word in x_train[index].split(' '):\n",
    "                if word != '':\n",
    "                    try:\n",
    "                        output[index].append(freq[word])\n",
    "                    except:\n",
    "                        continue\n",
    "        return output\n",
    "    \n",
    "    def length_dataframe(self, x_train_f):\n",
    "        length = list()\n",
    "        for i in range(len(x_train_f)):\n",
    "            length.append(len(x_train_f[i]))\n",
    "        df = pd.DataFrame(length)\n",
    "        print(df.describe())"
   ]
  },
  {
   "cell_type": "code",
   "execution_count": 10,
   "id": "9ea68de6-4334-465a-be82-3d19521b405e",
   "metadata": {},
   "outputs": [
    {
     "name": "stdout",
     "output_type": "stream",
     "text": [
      "Length of Train:\n",
      "                   0\n",
      "count  478400.000000\n",
      "mean       66.742007\n",
      "std        60.591225\n",
      "min         0.000000\n",
      "25%        26.000000\n",
      "50%        49.000000\n",
      "75%        87.000000\n",
      "max       656.000000\n",
      "Length of Test\n",
      "                   0\n",
      "count  119600.000000\n",
      "mean       66.545543\n",
      "std        60.626474\n",
      "min         0.000000\n",
      "25%        26.000000\n",
      "50%        48.000000\n",
      "75%        87.000000\n",
      "max       516.000000\n",
      "Length of Padded Train:\n",
      "              0\n",
      "count  478400.0\n",
      "mean       80.0\n",
      "std         0.0\n",
      "min        80.0\n",
      "25%        80.0\n",
      "50%        80.0\n",
      "75%        80.0\n",
      "max        80.0\n",
      "Length of Padded Test:\n",
      "              0\n",
      "count  119600.0\n",
      "mean       80.0\n",
      "std         0.0\n",
      "min        80.0\n",
      "25%        80.0\n",
      "50%        80.0\n",
      "75%        80.0\n",
      "max        80.0\n"
     ]
    }
   ],
   "source": [
    "vocab = Vocabulary(x_train, x_test, y_train, y_test)\n",
    "freq = vocab.word_freq()\n",
    "\n",
    "x_train_f = vocab.sen_to_freq(x_train, freq)\n",
    "x_test_f = vocab.sen_to_freq(x_test, freq)\n",
    "\n",
    "print('Length of Train:')\n",
    "vocab.length_dataframe(x_train_f)\n",
    "print('Length of Test')\n",
    "vocab.length_dataframe(x_test_f)\n",
    "\n",
    "x_train_p = vocab.padding(x_train_f, 80)\n",
    "x_test_p = vocab.padding(x_test_f, 80)\n",
    "\n",
    "print('Length of Padded Train:')\n",
    "vocab.length_dataframe(x_train_p)\n",
    "print('Length of Padded Test:')\n",
    "vocab.length_dataframe(x_test_p)"
   ]
  },
  {
   "cell_type": "code",
   "execution_count": 11,
   "id": "57d8acdf-da3e-45c8-954e-c695df863c44",
   "metadata": {},
   "outputs": [
    {
     "data": {
      "text/plain": [
       "(torch.Size([478400, 80]), torch.Size([119600, 80]))"
      ]
     },
     "execution_count": 11,
     "metadata": {},
     "output_type": "execute_result"
    }
   ],
   "source": [
    "x_train_t = torch.tensor(x_train_p)\n",
    "x_test_t = torch.tensor(x_test_p)\n",
    "x_train_t.shape, x_test_t.shape"
   ]
  },
  {
   "cell_type": "code",
   "execution_count": 12,
   "id": "4ec71159-d41f-4ca3-93e0-e25b071617c0",
   "metadata": {},
   "outputs": [
    {
     "data": {
      "text/plain": [
       "(torch.Size([478400]), torch.Size([119600]))"
      ]
     },
     "execution_count": 12,
     "metadata": {},
     "output_type": "execute_result"
    }
   ],
   "source": [
    "y_train_b = list(map(lambda x: 1 if x == 'positive' else 0, y_train))\n",
    "y_test_b = list(map(lambda x: 1 if x == 'positive' else 0, y_test))\n",
    "\n",
    "y_train_t = torch.tensor(y_train_b)\n",
    "y_test_t = torch.tensor(y_test_b)\n",
    "y_train_t.shape, y_test_t.shape"
   ]
  },
  {
   "cell_type": "code",
   "execution_count": 13,
   "id": "945de886-d521-42f6-a358-4d48c756e3e1",
   "metadata": {},
   "outputs": [],
   "source": [
    "num_embeddings = int(torch.max(torch.tensor(list(freq.values()))))"
   ]
  },
  {
   "cell_type": "code",
   "execution_count": 14,
   "id": "03228930-e49e-4bd3-8c50-fd2bb1b357fe",
   "metadata": {},
   "outputs": [],
   "source": [
    "class Net(nn.Module):\n",
    "    def __init__(self, num_embeddings):\n",
    "        super(Net, self).__init__()\n",
    "        self.embedding = nn.Embedding(num_embeddings=num_embeddings+1, embedding_dim=80)\n",
    "        self.conv1d_1 = nn.Conv1d(80, 32, kernel_size=4)\n",
    "        self.conv1d_2 = nn.Conv1d(80, 32, kernel_size=6)\n",
    "        self.conv1d_3 = nn.Conv1d(80, 32, kernel_size=8)\n",
    "        self.dropout = nn.Dropout(0.5)\n",
    "        self.maxpool = nn.MaxPool1d(kernel_size=2)\n",
    "        self.flatten = nn.Flatten()\n",
    "        self.linear_1 = nn.Linear(3552, 10)\n",
    "        self.linear_2 = nn.Linear(10, 1)\n",
    "        \n",
    "    def forward(self, x):\n",
    "        # First Channel\n",
    "        out1 = F.relu(self.conv1d_1(self.embedding(x)))\n",
    "        out1 = self.flatten(self.maxpool(self.dropout(out1)))\n",
    "        \n",
    "        # Second Channel\n",
    "        out2 = F.relu(self.conv1d_2(self.embedding(x)))\n",
    "        out2 = self.flatten(self.maxpool(self.dropout(out2)))\n",
    "        \n",
    "        # Third Channel\n",
    "        out3 = F.relu(self.conv1d_3(self.embedding(x)))\n",
    "        out3 = self.flatten(self.maxpool(self.dropout(out3)))\n",
    "        \n",
    "        # Merging\n",
    "        merge = torch.cat([out1, out2, out3], dim=1)\n",
    "        \n",
    "        # Merged output\n",
    "        out = F.relu(self.linear_1(merge))\n",
    "        out = torch.sigmoid(self.linear_2(out))\n",
    "        \n",
    "        return out"
   ]
  },
  {
   "cell_type": "code",
   "execution_count": 22,
   "id": "947394a2-d429-45ac-a14a-980857fb526e",
   "metadata": {},
   "outputs": [
    {
     "name": "stderr",
     "output_type": "stream",
     "text": [
      "100%|████████████████████████████████████████████████████████████████████████████| 15000/15000 [10:24<00:00, 24.01it/s]\n"
     ]
    },
    {
     "data": {
      "text/plain": [
       "(0.0, 1.1)"
      ]
     },
     "execution_count": 22,
     "metadata": {},
     "output_type": "execute_result"
    },
    {
     "data": {
      "image/png": "[encoded data removed]",
      "text/plain": [
       "<Figure size 432x288 with 1 Axes>"
      ]
     },
     "metadata": {
      "needs_background": "light"
     },
     "output_type": "display_data"
    }
   ],
   "source": [
    "model = Net(num_embeddings).to(device=device)\n",
    "loss_fn = nn.BCELoss()\n",
    "optimizer = torch.optim.Adam(model.parameters(), lr=1e-3)\n",
    "losses, accuracies = list(), list()\n",
    "bs = 32\n",
    "\n",
    "for epoch in (t := trange(15000)):\n",
    "    samp = np.random.randint(0, x_train_t.shape[0], size=(bs))\n",
    "    x = x_train_t[samp].to(device=device)\n",
    "    y = y_train_t[samp].float().to(device=device)\n",
    "    model.zero_grad()\n",
    "    out = model(x).view(32)\n",
    "    cat = torch.tensor(list(map(lambda x: 1 if x > 0.5 else 0, out))).to(device=device)\n",
    "    acc = (cat == y).float().mean()\n",
    "    loss = loss_fn(out, y)\n",
    "    loss.backward()\n",
    "    optimizer.step()\n",
    "    losses.append(loss.item())\n",
    "    accuracies.append(acc.item())\n",
    "    \n",
    "plt.plot(accuracies)\n",
    "plt.plot(losses)\n",
    "plt.ylim(0, 1.1)"
   ]
  },
  {
   "cell_type": "code",
   "execution_count": 23,
   "id": "73dfcc49-e0ca-4737-9351-aa0e089e441d",
   "metadata": {},
   "outputs": [
    {
     "name": "stderr",
     "output_type": "stream",
     "text": [
      "100%|███████████████████████████████████████████████████████████████████████████| 14950/14950 [01:39<00:00, 150.85it/s]\n",
      "  0%|▍                                                                              | 18/3737 [00:00<00:20, 178.22it/s]"
     ]
    },
    {
     "name": "stdout",
     "output_type": "stream",
     "text": [
      "train accuracy:  90.1626254180602\n"
     ]
    },
    {
     "name": "stderr",
     "output_type": "stream",
     "text": [
      "100%|█████████████████████████████████████████████████████████████████████████████| 3737/3737 [00:24<00:00, 155.58it/s]"
     ]
    },
    {
     "name": "stdout",
     "output_type": "stream",
     "text": [
      "test accuracy:  89.55964008563019\n"
     ]
    },
    {
     "name": "stderr",
     "output_type": "stream",
     "text": [
      "\n"
     ]
    }
   ],
   "source": [
    "for name, x, y in [('train', x_train_t, y_train_t), ('test', x_test_t, y_test_t)]:\n",
    "    iterations = len(x)//32\n",
    "    accuracies = list()\n",
    "    start, end = 0, 0\n",
    "    for epoch in (t := trange(iterations)):\n",
    "        with torch.no_grad():\n",
    "            end += 32\n",
    "            try:\n",
    "                x_ = x[start:end].to(device=device)\n",
    "                y_ = y[start:end].to(device=device)\n",
    "            except:\n",
    "                x_ = x[start:].to(device=device)\n",
    "                y_ = y[start:].to(device=device)\n",
    "            start += 32\n",
    "            out = model(x_).view(32)\n",
    "            cat = torch.tensor(list(map(lambda a: 1 if a > 0.5 else 0, out))).to(device=device)\n",
    "            accuracy = (cat == y_).float()\n",
    "            for acc in accuracy:\n",
    "                accuracies.append(acc.item())\n",
    "    print(name, 'accuracy: ', np.array(accuracies).mean()*100)"
   ]
  }
 ],
 "metadata": {
  "kernelspec": {
   "display_name": "Python 3",
   "language": "python",
   "name": "python3"
  },
  "language_info": {
   "codemirror_mode": {
    "name": "ipython",
    "version": 3
   },
   "file_extension": ".py",
   "mimetype": "text/x-python",
   "name": "python",
   "nbconvert_exporter": "python",
   "pygments_lexer": "ipython3",
   "version": "3.9.2"
  }
 },
 "nbformat": 4,
 "nbformat_minor": 5
}
